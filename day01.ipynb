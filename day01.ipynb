{
 "cells": [
  {
   "cell_type": "code",
   "execution_count": 24,
   "id": "567a855c",
   "metadata": {
    "ExecuteTime": {
     "end_time": "2025-03-03T03:37:43.745986Z",
     "start_time": "2025-03-03T03:37:43.742985Z"
    }
   },
   "outputs": [],
   "source": [
    "class Human:\n",
    "    \n",
    "    def __init__(self, name):\n",
    "        print(\"Human initialized\")\n",
    "        self.name = name\n",
    "        \n",
    "    def say_hello(self):\n",
    "        print(f\"hello! my name is {self.name}\")"
   ]
  },
  {
   "cell_type": "code",
   "execution_count": 25,
   "id": "10f0ce49",
   "metadata": {
    "ExecuteTime": {
     "end_time": "2025-03-03T03:37:43.887874Z",
     "start_time": "2025-03-03T03:37:43.871701Z"
    }
   },
   "outputs": [],
   "source": [
    "class player(Human):\n",
    "    \n",
    "    def __init__(self, name, xp):\n",
    "        super().__init__(name)\n",
    "        self.xp = xp\n"
   ]
  },
  {
   "cell_type": "code",
   "execution_count": 26,
   "id": "ac2e9185",
   "metadata": {
    "ExecuteTime": {
     "end_time": "2025-03-03T03:37:44.042080Z",
     "start_time": "2025-03-03T03:37:44.026080Z"
    }
   },
   "outputs": [],
   "source": [
    "class Fan(Human):\n",
    "    \n",
    "    def __init__(self, name, fav_team):\n",
    "        super().__init__(name)\n",
    "        self.fav_team = fav_team\n",
    "        "
   ]
  },
  {
   "cell_type": "code",
   "execution_count": 27,
   "id": "67a2f1fb",
   "metadata": {
    "ExecuteTime": {
     "end_time": "2025-03-03T03:37:44.180896Z",
     "start_time": "2025-03-03T03:37:44.164259Z"
    }
   },
   "outputs": [
    {
     "name": "stdout",
     "output_type": "stream",
     "text": [
      "Human initialized\n",
      "hello! my name is nico\n"
     ]
    }
   ],
   "source": [
    "nico = Fan(\"nico\", \"blue\")\n",
    "nico.say_hello()"
   ]
  },
  {
   "cell_type": "code",
   "execution_count": null,
   "id": "732737ac",
   "metadata": {},
   "outputs": [],
   "source": []
  },
  {
   "cell_type": "code",
   "execution_count": 29,
   "id": "209dda6a",
   "metadata": {
    "ExecuteTime": {
     "end_time": "2025-03-03T03:42:25.252064Z",
     "start_time": "2025-03-03T03:42:25.234916Z"
    }
   },
   "outputs": [
    {
     "name": "stdout",
     "output_type": "stream",
     "text": [
      "woof woof\n",
      "super woof\n"
     ]
    }
   ],
   "source": [
    "class Dog:\n",
    "    \n",
    "    def woof(self):\n",
    "        print(\"woof woof\")\n",
    "        \n",
    "class Beagle(Dog):\n",
    "    def woof(self):\n",
    "        super().woof()\n",
    "        print(\"super woof\")\n",
    "        \n",
    "beagle = Beagle()\n",
    "beagle.woof()"
   ]
  },
  {
   "cell_type": "code",
   "execution_count": 41,
   "id": "91a80d04",
   "metadata": {
    "ExecuteTime": {
     "end_time": "2025-03-03T03:49:39.108814Z",
     "start_time": "2025-03-03T03:49:39.096810Z"
    }
   },
   "outputs": [
    {
     "name": "stdout",
     "output_type": "stream",
     "text": [
      "they want to get name\n",
      "cry\n"
     ]
    }
   ],
   "source": [
    "class Dog:\n",
    "    \n",
    "    def __init__(self, name):\n",
    "        self.name = name\n",
    "        \n",
    "    def __str__(self):\n",
    "        print(super().__str__())\n",
    "        return f\"Dog: {self.name}\"\n",
    "    \n",
    "    def __getattribute__(self, name):\n",
    "        print(f\"they want to get {name}\")\n",
    "        return \"cry\"\n",
    "    \n",
    "    \n",
    "jia = Dog(\"jia\")\n",
    "print(jia.name)\n"
   ]
  },
  {
   "cell_type": "code",
   "execution_count": null,
   "id": "744874b0",
   "metadata": {},
   "outputs": [],
   "source": []
  }
 ],
 "metadata": {
  "kernelspec": {
   "display_name": "Python 3 (ipykernel)",
   "language": "python",
   "name": "python3"
  },
  "language_info": {
   "codemirror_mode": {
    "name": "ipython",
    "version": 3
   },
   "file_extension": ".py",
   "mimetype": "text/x-python",
   "name": "python",
   "nbconvert_exporter": "python",
   "pygments_lexer": "ipython3",
   "version": "3.9.13"
  },
  "toc": {
   "base_numbering": 1,
   "nav_menu": {},
   "number_sections": true,
   "sideBar": true,
   "skip_h1_title": false,
   "title_cell": "Table of Contents",
   "title_sidebar": "Contents",
   "toc_cell": false,
   "toc_position": {},
   "toc_section_display": true,
   "toc_window_display": false
  },
  "varInspector": {
   "cols": {
    "lenName": 16,
    "lenType": 16,
    "lenVar": 40
   },
   "kernels_config": {
    "python": {
     "delete_cmd_postfix": "",
     "delete_cmd_prefix": "del ",
     "library": "var_list.py",
     "varRefreshCmd": "print(var_dic_list())"
    },
    "r": {
     "delete_cmd_postfix": ") ",
     "delete_cmd_prefix": "rm(",
     "library": "var_list.r",
     "varRefreshCmd": "cat(var_dic_list()) "
    }
   },
   "types_to_exclude": [
    "module",
    "function",
    "builtin_function_or_method",
    "instance",
    "_Feature"
   ],
   "window_display": false
  }
 },
 "nbformat": 4,
 "nbformat_minor": 5
}
